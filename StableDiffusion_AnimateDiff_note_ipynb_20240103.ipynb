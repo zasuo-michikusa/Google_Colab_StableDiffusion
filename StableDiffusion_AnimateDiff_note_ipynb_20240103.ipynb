{
  "cells": [
    {
      "cell_type": "markdown",
      "metadata": {
        "id": "view-in-github",
        "colab_type": "text"
      },
      "source": [
        "<a href=\"https://colab.research.google.com/github/zasuo-michikusa/Google_Colab_StableDiffusion/blob/main/StableDiffusion_AnimateDiff_note_ipynb_20240103.ipynb\" target=\"_parent\"><img src=\"https://colab.research.google.com/assets/colab-badge.svg\" alt=\"Open In Colab\"/></a>"
      ]
    },
    {
      "cell_type": "markdown",
      "source": [
        "★事前準備★\n",
        "\n",
        "ご自分の「Googleドライブ」の「MyDrive」に 以下のフォルダ構成と\n",
        "\n",
        "任意でGoogleColab上の「Stable-Diffusion_WEB-UI」で使用したいデータを格納してください。\n",
        "\n",
        "MyDrive\n",
        "\n",
        "└StableDiffusion\n",
        "\n",
        " 　└checkpoints　※使用したいモデルデータを格納\n",
        "\n",
        " 　└controlnet　※ツール用モデルを格納\n",
        "\n",
        " 　└embeddings　※EasyNegativeなどを格納\n",
        "\n",
        " 　└lora　※使用したいLoRAデータを格納\n",
        "\n",
        " 　└VAE　※使用したいVAEデータを格納\n",
        "\n",
        " 　└outputs　※生成データのコピー用受け皿フォルダ（フォルダのみでOK）"
      ],
      "metadata": {
        "id": "2d6jj_Vmg9_p"
      }
    },
    {
      "cell_type": "markdown",
      "source": [
        "★このノートブックの使い方★\n",
        "\n",
        "～～～～～～～～～～～～～～～～～～～～～～～～～～～～～～\n",
        "\n",
        "①まずメニュー項目の「ランタイム」から\n",
        " → ランタイムの変更（いずれかのGPUタイプを選択）\n",
        "\n",
        "②【01】の実行ボタン（▶）を押す、\n",
        "\n",
        "（▶）の左に✅が付いたら次の（▶）を順番に押していく\n",
        "\n",
        "※または「ランタイム」から「すべてのセルを実行」を実行する\n",
        "\n",
        "③【06】の処理が進み、 https://************.gradio.live\n",
        "と表示されたら、そのURLをクリック\n",
        "\n",
        "④WEB-UIを停止するときは【05】の（▶）を押して処理をクルクルを停止\n",
        "\n",
        "⑤再度WEB-UIを使用する際は、【05】の（▶）を押し③と同様\n",
        "\n",
        "⑥生成したデータを保存する場合は【06】の（▶）を実行\n",
        "\n",
        "～～～～～～～～～～～～～～～～～～～～～～～～～～～～～～\n",
        "\n",
        "\n",
        "以下、「StableDiffusion_AnimateDiff環境」の起動手順です。"
      ],
      "metadata": {
        "id": "Z7-3iE4Ta8v0"
      }
    },
    {
      "cell_type": "markdown",
      "metadata": {
        "id": "xaBMLZ3T6xDU"
      },
      "source": [
        "👇【01】Googleドライブのデータをこのノートブックへマウント（接続）\n",
        "\n",
        "※Googleドライブにある、checkpoint、LoRA、VAE、Embedding、ControlNet用のツールモデル等を参照できるようにする\n",
        "\n",
        "↓の（▶）を押し、出現するポップアップウィンドウから\n",
        "\n",
        "　 Googleドライブに接続 → 「アカウントの選択」 → 「アクセスを許可」"
      ]
    },
    {
      "cell_type": "code",
      "execution_count": null,
      "metadata": {
        "id": "57uc9RXg2H0d"
      },
      "outputs": [],
      "source": [
        "from google.colab import drive\n",
        "drive.mount('/content/drive')"
      ]
    },
    {
      "cell_type": "markdown",
      "metadata": {
        "id": "n5imcv6kBQqY"
      },
      "source": [
        "👇【02】WEB-UIと各種_拡張機能のクローン（起動前にあらかじめ導入）※お好みで増減可能"
      ]
    },
    {
      "cell_type": "code",
      "execution_count": null,
      "metadata": {
        "id": "RSEEtcqV23j6"
      },
      "outputs": [],
      "source": [
        "# Stable Diffusion Web-UIのクローン\n",
        "!git clone https://github.com/AUTOMATIC1111/stable-diffusion-webui.git\n",
        "%cd stable-diffusion-webui\n",
        "\n",
        "# Control Netのクローン\n",
        "%cd /content/stable-diffusion-webui/extensions\n",
        "!git clone https://github.com/Mikubill/sd-webui-controlnet.git\n",
        "%cd /content/stable-diffusion-webui\n",
        "\n",
        "# AnimateDiffのクローン\n",
        "%cd /content/stable-diffusion-webui/extensions\n",
        "!git clone https://github.com/continue-revolution/sd-webui-animatediff.git\n",
        "%cd /content/stable-diffusion-webui\n",
        "\n",
        "# Deforumのクローン\n",
        "%cd /content/stable-diffusion-webui/extensions\n",
        "!git clone https://github.com/deforum-art/sd-webui-deforum.git\n",
        "%cd /content/stable-diffusion-webui\n",
        "\n",
        "# Styles-Editorのクローン\n",
        "%cd /content/stable-diffusion-webui/extensions\n",
        "!git clone https://github.com/chrisgoringe/Styles-Editor.git\n",
        "%cd /content/stable-diffusion-webui\n",
        "\n",
        "# adetailerのクローン\n",
        "%cd /content/stable-diffusion-webui/extensions\n",
        "!git clone https://github.com/Bing-su/adetailer.git\n",
        "%cd /content/stable-diffusion-webui\n",
        "\n",
        "# aspect-ratio-helperのクローン\n",
        "%cd /content/stable-diffusion-webui/extensions\n",
        "!git clone https://github.com/thomasasfk/sd-webui-aspect-ratio-helper.git\n",
        "%cd /content/stable-diffusion-webui\n",
        "\n",
        "# prompt-all-in-oneのクローン\n",
        "%cd /content/stable-diffusion-webui/extensions\n",
        "!git clone https://github.com/Physton/sd-webui-prompt-all-in-one.git\n",
        "%cd /content/stable-diffusion-webui"
      ]
    },
    {
      "cell_type": "markdown",
      "source": [
        "👇【03】MP4形式の出力用に「ffpeg」をインストール"
      ],
      "metadata": {
        "id": "UqQk7wCtWgzB"
      }
    },
    {
      "cell_type": "code",
      "source": [
        "%cd /content/stable-diffusion-webui/\n",
        "!venv\\Scripts\\activate\n",
        "!pip install imageio[ffmpeg]"
      ],
      "metadata": {
        "id": "Y81eKNE1WJu-"
      },
      "execution_count": null,
      "outputs": []
    },
    {
      "cell_type": "markdown",
      "metadata": {
        "id": "qC6V3jX_y-5A"
      },
      "source": [
        "👇【04】Googleドライブから、StyleEditorの移植と「AnimateDiff」用の「MotionModel」をHugingFaceからDL"
      ]
    },
    {
      "cell_type": "code",
      "execution_count": null,
      "metadata": {
        "id": "CQALw2pL_rZO"
      },
      "outputs": [],
      "source": [
        "%cd /content/stable-diffusion-webui/\n",
        "\n",
        "!cp -r \"/content/drive/MyDrive/StableDiffusion/Styles-Editor\" \"/content/stable-diffusion-webui/extensions\"\n",
        "\n",
        "!wget https://huggingface.co/conrevo/AnimateDiff-A1111/resolve/main/motion_module/mm_sd14_v1.safetensors --directory-prefix=/content/stable-diffusion-webui/extensions/sd-webui-animatediff/model\n",
        "\n",
        "!wget https://huggingface.co/conrevo/AnimateDiff-A1111/resolve/main/motion_module/mm_sd15_v1.safetensors --directory-prefix=/content/stable-diffusion-webui/extensions/sd-webui-animatediff/model\n",
        "\n",
        "!wget https://huggingface.co/conrevo/AnimateDiff-A1111/resolve/main/motion_module/mm_sd15_v2.safetensors --directory-prefix=/content/stable-diffusion-webui/extensions/sd-webui-animatediff/model\n",
        "\n",
        "!wget https://huggingface.co/conrevo/AnimateDiff-A1111/resolve/main/motion_module/mm_sd15_v3.safetensors --directory-prefix=/content/stable-diffusion-webui/extensions/sd-webui-animatediff/model"
      ]
    },
    {
      "cell_type": "markdown",
      "metadata": {
        "id": "IvSENcyKz-ZX"
      },
      "source": [
        "👇【05】WEB-UIの起動（各種大容量データはGoogleドライブを参照する設定） ※起動オプション追記もお好みで可能"
      ]
    },
    {
      "cell_type": "markdown",
      "source": [
        "★ ↓の（▶）で WEB-UIの「停止」と「再起動」を操作します。"
      ],
      "metadata": {
        "id": "3w5vN2jGZOcq"
      }
    },
    {
      "cell_type": "code",
      "execution_count": null,
      "metadata": {
        "id": "epSTotC65qBC"
      },
      "outputs": [],
      "source": [
        "!python launch.py --share \\\n",
        "  --ckpt-dir \"/content/drive/MyDrive/StableDiffusion/checkpoints\" \\\n",
        "  --embeddings-dir \"/content/drive/MyDrive/StableDiffusion/embeddings\" \\\n",
        "  --lora-dir \"/content/drive/MyDrive/StableDiffusion/lora\" \\\n",
        "  --vae-dir \"/content/drive/MyDrive/StableDiffusion/vae\" \\\n",
        "  --controlnet-dir \"/content/drive/MyDrive/StableDiffusion/controlnet\""
      ]
    },
    {
      "cell_type": "markdown",
      "metadata": {
        "id": "VRun12UM6vm_"
      },
      "source": [
        "👇【06】いったん【05】の処理を停止させた後に（▶）を実行してください。\n",
        "\n",
        "生成したデータ「Outputデータ」をGoogleドライブへコピーします。\n",
        "\n",
        "≪注意≫フォルダごと追加するので、フォルダ構成が多重化していきます。\n",
        "\n",
        "※こまめにGoogleドライブ内の「outputs」フォルダのデータをローカルに移動と削除をしてください。"
      ]
    },
    {
      "cell_type": "code",
      "execution_count": 15,
      "metadata": {
        "id": "MUUlLMA57_ck"
      },
      "outputs": [],
      "source": [
        "!cp -r \"/content/stable-diffusion-webui/outputs/txt2img-grids\" \"/content/drive/MyDrive/StableDiffusion/outputs/txt2img-grids\"\n",
        "!cp -r \"/content/stable-diffusion-webui/outputs/txt2img-images\" \"/content/drive/MyDrive/StableDiffusion/outputs/txt2img-images\""
      ]
    }
  ],
  "metadata": {
    "accelerator": "GPU",
    "colab": {
      "machine_shape": "hm",
      "provenance": [],
      "gpuType": "V100",
      "toc_visible": true,
      "authorship_tag": "ABX9TyP3oSbngKMnZDTD0PMbrl/C",
      "include_colab_link": true
    },
    "kernelspec": {
      "display_name": "Python 3",
      "name": "python3"
    },
    "language_info": {
      "name": "python"
    }
  },
  "nbformat": 4,
  "nbformat_minor": 0
}